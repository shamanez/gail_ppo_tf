{
 "cells": [
  {
   "cell_type": "code",
   "execution_count": 1,
   "metadata": {},
   "outputs": [],
   "source": [
    "import tensorflow as tf"
   ]
  },
  {
   "cell_type": "code",
   "execution_count": 2,
   "metadata": {},
   "outputs": [],
   "source": [
    "embed_matrix = tf.get_variable('embed_matrix',shape=[4, 5],initializer=tf.random_uniform_initializer())"
   ]
  },
  {
   "cell_type": "code",
   "execution_count": 3,
   "metadata": {},
   "outputs": [],
   "source": [
    "encoder_inputs = tf.placeholder(shape=(None), dtype=tf.int32, name='encoder_inputs')\n",
    "#encoder_inputs=[0,1,2]"
   ]
  },
  {
   "cell_type": "code",
   "execution_count": 4,
   "metadata": {},
   "outputs": [],
   "source": [
    "embed = tf.nn.embedding_lookup(embed_matrix, encoder_inputs, name='embedding')\n"
   ]
  },
  {
   "cell_type": "code",
   "execution_count": 6,
   "metadata": {},
   "outputs": [
    {
     "name": "stdout",
     "output_type": "stream",
     "text": [
      "[array([[0.6908301 , 0.01370108, 0.7175019 , 0.3724227 , 0.89177823],\n",
      "       [0.9824821 , 0.61954653, 0.17599416, 0.9980724 , 0.8574468 ],\n",
      "       [0.07175028, 0.977067  , 0.22442114, 0.8727399 , 0.31085575]],\n",
      "      dtype=float32)]\n",
      "[array([[0.6908301 , 0.01370108, 0.7175019 , 0.3724227 , 0.89177823]],\n",
      "      dtype=float32)]\n"
     ]
    }
   ],
   "source": [
    "with tf.Session() as sess:\n",
    "    sess.run(tf.global_variables_initializer())\n",
    "    print(sess.run([embed],feed_dict={encoder_inputs: [0,1,2]}))\n",
    "    print(sess.run([embed],feed_dict={encoder_inputs: [0]}))\n",
    "    "
   ]
  },
  {
   "cell_type": "code",
   "execution_count": null,
   "metadata": {},
   "outputs": [],
   "source": []
  }
 ],
 "metadata": {
  "kernelspec": {
   "display_name": "Python 2",
   "language": "python",
   "name": "python2"
  },
  "language_info": {
   "codemirror_mode": {
    "name": "ipython",
    "version": 2
   },
   "file_extension": ".py",
   "mimetype": "text/x-python",
   "name": "python",
   "nbconvert_exporter": "python",
   "pygments_lexer": "ipython2",
   "version": "2.7.12"
  }
 },
 "nbformat": 4,
 "nbformat_minor": 2
}
